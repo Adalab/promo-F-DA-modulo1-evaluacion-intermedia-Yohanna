{
 "cells": [
  {
   "cell_type": "markdown",
   "metadata": {},
   "source": [
    "EVALUACIÓN INTERMEDIA YOHANNA"
   ]
  },
  {
   "cell_type": "markdown",
   "metadata": {},
   "source": [
    "Parte 1: Strings"
   ]
  },
  {
   "cell_type": "code",
   "execution_count": 1,
   "metadata": {},
   "outputs": [
    {
     "name": "stdout",
     "output_type": "stream",
     "text": [
      "La letra 'a' aparece 4 veces en la frase de string.\n"
     ]
    }
   ],
   "source": [
    "#1.Dada una cadena de texto, contar cuántas veces aparece una letra específica en ella. Usa un input para que el usuario elija la letra a buscar.\n",
    "\n",
    "cadena = \"Python es un lenguaje de programación muy popular\"\n",
    "\n",
    "buscar_letra = input(\"Ingresa la letra que necesites buscar: \")\n",
    "\n",
    "cadena = cadena.lower()\n",
    "buscar_letra = buscar_letra.lower()\n",
    "\n",
    "veces_letra = cadena.count(buscar_letra)\n",
    "\n",
    "print(f\"La letra '{buscar_letra}' aparece {veces_letra} veces en la frase de string.\")\n"
   ]
  },
  {
   "cell_type": "code",
   "execution_count": 4,
   "metadata": {},
   "outputs": [
    {
     "name": "stdout",
     "output_type": "stream",
     "text": [
      "Cadena original: Python es genial. Python es fácil de aprender.\n",
      "Nueva cadena: Python es enorme. Python es fácil de aprender.\n"
     ]
    }
   ],
   "source": [
    "#2.Escribe un programa que tome la siguiente cadena de texto y reemplace una palabra específica por otra palabra. La palabra a reemplazar y reemplazada deben ser elegidas por el usuario.\n",
    "\n",
    "cadena1 = \"Python es genial. Python es fácil de aprender.\"\n",
    "\n",
    "palabra_reemplazar = input(\"Escribe la palabra que quieres reemplazar: \")\n",
    "palabra_nueva = input(\"Escribe la palabra nueva: \")\n",
    "\n",
    "nueva_cadena = cadena1.replace(palabra_reemplazar, palabra_nueva)\n",
    "\n",
    "print(\"Cadena original:\", cadena1)\n",
    "print(\"Nueva cadena:\", nueva_cadena)\n"
   ]
  },
  {
   "cell_type": "code",
   "execution_count": 8,
   "metadata": {},
   "outputs": [
    {
     "name": "stdout",
     "output_type": "stream",
     "text": [
      "['La', 'mañana', 'va', 'a', 'ser', 'larga']\n",
      "Lamañanavaaserlarga\n"
     ]
    }
   ],
   "source": [
    "#3.Toma la siguiente oración y divídela en una lista de palabras. Luego, únelas nuevamente en una sola cadena de texto\n",
    "\n",
    "oracion = \"La mañana va a ser larga\"\n",
    "\n",
    "oracion_lista = oracion.split()\n",
    "\n",
    "print(oracion_lista)\n",
    "\n",
    "oracion_lista2 = \"\".join(oracion_lista)\n",
    "\n",
    "print(oracion_lista2)"
   ]
  },
  {
   "cell_type": "code",
   "execution_count": 12,
   "metadata": {},
   "outputs": [
    {
     "name": "stdout",
     "output_type": "stream",
     "text": [
      "Hay 37 palabras en la cadena:\n"
     ]
    }
   ],
   "source": [
    "#4. Desarrolla un programa que cuente cuántas palabras hay en la siguiente frase.\n",
    "\n",
    "cadena3 = \"Esta es una cadena con cinco palabras\"\n",
    "\n",
    "cantidad_palabras = len(cadena3)\n",
    "\n",
    "print(f\"Hay {cantidad_palabras} palabras en la cadena\")\n"
   ]
  },
  {
   "cell_type": "code",
   "execution_count": 14,
   "metadata": {},
   "outputs": [
    {
     "name": "stdout",
     "output_type": "stream",
     "text": [
      "Hoy tengo mi primera evaluacion\n",
      "noicaulave aremirp im ognet yoH\n"
     ]
    }
   ],
   "source": [
    "#5. Escribe un programa que invierta una cadena de texto dada por un usuario. Mira el siguiente ejemplo para entender lo que se pide:\n",
    "\n",
    "texto_usuario = input(\"¡Escribe un texto y los invertiremos!\")\n",
    "\n",
    "texto_invertido = \"\".join(reversed(texto_usuario))\n",
    "\n",
    "print(texto_usuario)\n",
    "print(texto_invertido)"
   ]
  },
  {
   "cell_type": "code",
   "execution_count": 26,
   "metadata": {},
   "outputs": [
    {
     "name": "stdout",
     "output_type": "stream",
     "text": [
      "La palabra 'fin' se encuentra en la posición 2.\n"
     ]
    }
   ],
   "source": [
    "#6. Crea un programa que busque una palabra específica(elegida por la usuaria) en una cadena de texto e indique su posición.\n",
    "\n",
    "cadena4 = \"Mañana es fin de semana y voy a descansar\"\n",
    "\n",
    "palabra_buscar = input(\"Escriba la palabra que quieres buscar: \")\n",
    "\n",
    "cadena5= cadena4.split()\n",
    "palabra_buscar_1 = palabra_buscar.lower()\n",
    "\n",
    "posicion = cadena5.index(palabra_buscar_1)\n",
    "print(f\"La palabra '{palabra_buscar_1}' se encuentra en la posición {posicion}.\")\n",
    "\n"
   ]
  },
  {
   "cell_type": "markdown",
   "metadata": {},
   "source": [
    "Parte 2: Listas"
   ]
  },
  {
   "cell_type": "code",
   "execution_count": 27,
   "metadata": {},
   "outputs": [
    {
     "name": "stdout",
     "output_type": "stream",
     "text": [
      "El tercer elemento de la lista es: banana\n",
      "['manzana', 'durazno', 'banana', 'uva', 'kiwi', 'naranja']\n"
     ]
    }
   ],
   "source": [
    "#1. Dada la siguiente lista: frutas = ['manzana', 'pera', 'banana', 'uva', 'kiwi'], realiza lo siguiente:\n",
    "#a) Reemplaza el segundo elemento con 'durazno'.\n",
    "#b) Agrega 'naranja' al final de la lista.\n",
    "#c) Extrae y muestra por pantalla el tercer elemento de la lista.\n",
    "\n",
    "frutas = ['manzana', 'pera', 'banana', 'uva', 'kiwi']\n",
    "\n",
    "#a)\n",
    "indice_pera = frutas.index('pera')\n",
    "\n",
    "frutas.pop(indice_pera)\n",
    "\n",
    "frutas.insert(indice_pera, 'durazno')\n",
    "\n",
    "#b)\n",
    "frutas.append('naranja')\n",
    "\n",
    "#c)\n",
    "tercer_elemento = frutas[2]\n",
    "print(\"El tercer elemento de la lista es:\", tercer_elemento)\n",
    "\n",
    "print(frutas)"
   ]
  },
  {
   "cell_type": "code",
   "execution_count": 42,
   "metadata": {},
   "outputs": [],
   "source": [
    "#2. Crea una lista llamada numeros que contenga los siguientes valores: 10, 25, 15, 30, 20\n",
    "\n",
    "numeros = [10, 25, 15, 30, 20]"
   ]
  },
  {
   "cell_type": "code",
   "execution_count": 43,
   "metadata": {},
   "outputs": [
    {
     "name": "stdout",
     "output_type": "stream",
     "text": [
      "[35, 10, 25, 15, 30, 20]\n"
     ]
    }
   ],
   "source": [
    "#3 Agrega el valor 35 al incio de la lista numeros.\n",
    "\n",
    "numeros.insert(0, 35)\n",
    "\n",
    "print(numeros)"
   ]
  },
  {
   "cell_type": "code",
   "execution_count": 44,
   "metadata": {},
   "outputs": [
    {
     "name": "stdout",
     "output_type": "stream",
     "text": [
      "[10, 15, 20, 25, 30, 35]\n"
     ]
    }
   ],
   "source": [
    "#4 Ordena la lista numeros en orden ascendente.\n",
    "\n",
    "numeros4 = sorted(numeros)\n",
    "\n",
    "print(numeros4)"
   ]
  },
  {
   "cell_type": "code",
   "execution_count": 46,
   "metadata": {},
   "outputs": [
    {
     "name": "stdout",
     "output_type": "stream",
     "text": [
      "[10, 25, 15, 30, 20, 45, 22, 19, 38, 29]\n"
     ]
    }
   ],
   "source": [
    "#5. Dada la siguiente lista numeros2 = [45, 22, 19, 38, 29]. Crea una nueva lista llamada numeros3 donde tengamos la unión de los todos los elementos de las dos listas (numeros y numeros2) de tal forma que el resultado final sea\n",
    "#numeros3 = [10, 25, 15, 30, 20, 45, 22, 19, 38, 29]\n",
    "\n",
    "numeros2 = [45, 22, 19, 38, 29]\n",
    "\n",
    "numeros.pop(0) #antes habiamos agregado un 35 al inicio de la lista\n",
    "\n",
    "numeros3 = numeros + numeros2\n",
    "\n",
    "print(numeros3)\n",
    "\n"
   ]
  },
  {
   "cell_type": "code",
   "execution_count": 47,
   "metadata": {},
   "outputs": [
    {
     "name": "stdout",
     "output_type": "stream",
     "text": [
      "[10, 25, 15, 30, 20, 45, 22, 19, 38]\n"
     ]
    }
   ],
   "source": [
    "#6 Elimina el último elemento de la lista numeros3.\n",
    "\n",
    "numeros3.pop()\n",
    "print(numeros3)"
   ]
  },
  {
   "cell_type": "code",
   "execution_count": 49,
   "metadata": {},
   "outputs": [
    {
     "name": "stdout",
     "output_type": "stream",
     "text": [
      "[10, 25, 15, 20, 45, 22, 19, 38]\n"
     ]
    }
   ],
   "source": [
    "#7 Elimina el número 30 de la lista numeros3.\n",
    "\n",
    "numeros3.index(30)\n",
    "\n",
    "numeros3.pop(3)\n",
    "\n",
    "print(numeros3)"
   ]
  },
  {
   "cell_type": "markdown",
   "metadata": {},
   "source": [
    "Parte 3: Tuplas"
   ]
  },
  {
   "cell_type": "code",
   "execution_count": 52,
   "metadata": {},
   "outputs": [
    {
     "name": "stdout",
     "output_type": "stream",
     "text": [
      "('rojo', 'verde', 'azul', 'amarillo', 'morado') <class 'tuple'>\n"
     ]
    }
   ],
   "source": [
    "#1.Crea una tupla llamada colores que contenga los siguientes valores: 'rojo', 'verde', 'azul', 'amarillo', 'morado'.\n",
    "\n",
    "colores = ('rojo', 'verde', 'azul', 'amarillo', 'morado')\n",
    "\n",
    "print(colores,type(colores))"
   ]
  },
  {
   "cell_type": "code",
   "execution_count": 53,
   "metadata": {},
   "outputs": [
    {
     "data": {
      "text/plain": [
       "1"
      ]
     },
     "execution_count": 53,
     "metadata": {},
     "output_type": "execute_result"
    }
   ],
   "source": [
    "#2.Encuentra el índice de 'verde' en la tupla colores.\n",
    "\n",
    "colores.index(\"verde\")"
   ]
  },
  {
   "cell_type": "code",
   "execution_count": 54,
   "metadata": {},
   "outputs": [
    {
     "data": {
      "text/plain": [
       "1"
      ]
     },
     "execution_count": 54,
     "metadata": {},
     "output_type": "execute_result"
    }
   ],
   "source": [
    "#3.¿Cuántas veces aparece 'azul' en la tupla colores?\n",
    "\n",
    "colores.count(\"azul\")"
   ]
  },
  {
   "cell_type": "code",
   "execution_count": 56,
   "metadata": {},
   "outputs": [
    {
     "name": "stdout",
     "output_type": "stream",
     "text": [
      "('rojo', 'verde', 'azul', 'amarillo', 'morado')\n",
      "('rojo', 'verde', 'azul', 'amarillo', 'morado') <class 'tuple'>\n"
     ]
    }
   ],
   "source": [
    "#4. Añade el color \"morado\" a la tupla colores. ¿Qué ha pasado? ¿Por qué? Como podríamos añadir el elemento \"morado\".\n",
    "\n",
    "colores = ('rojo', 'verde', 'azul', 'amarillo') #las tuplas no se pueden podificar, se crea otra para añadir morado\n",
    "nuevos_colores = colores + ('morado',)\n",
    "\n",
    "print(nuevos_colores)\n",
    "\n",
    "print(nuevos_colores,type(nuevos_colores))\n"
   ]
  },
  {
   "cell_type": "markdown",
   "metadata": {},
   "source": [
    "Parte 4: Diccionarios"
   ]
  },
  {
   "cell_type": "code",
   "execution_count": 57,
   "metadata": {},
   "outputs": [],
   "source": [
    "#1.Crea un diccionario llamado frutas con las siguientes parejas clave-valor:\n",
    "#'manzana': 2\n",
    "#'banana': 3\n",
    "#'uva': 5\n",
    "#'pera': 4\n",
    "\n",
    "frutas = {'manzana': 2,'banana': 3, 'uva': 5, 'pera': 4}"
   ]
  },
  {
   "cell_type": "code",
   "execution_count": 58,
   "metadata": {},
   "outputs": [
    {
     "data": {
      "text/plain": [
       "dict_keys(['manzana', 'banana', 'uva', 'pera'])"
      ]
     },
     "execution_count": 58,
     "metadata": {},
     "output_type": "execute_result"
    }
   ],
   "source": [
    "#2.Saca una lista de todas las frutas en el diccionario\n",
    "\n",
    "frutas.keys()"
   ]
  },
  {
   "cell_type": "code",
   "execution_count": 59,
   "metadata": {},
   "outputs": [
    {
     "data": {
      "text/plain": [
       "dict_values([2, 3, 5, 4])"
      ]
     },
     "execution_count": 59,
     "metadata": {},
     "output_type": "execute_result"
    }
   ],
   "source": [
    "#3. Saca una lista de todas las cantidades en el diccionario.\n",
    "\n",
    "frutas.values()"
   ]
  },
  {
   "cell_type": "code",
   "execution_count": 64,
   "metadata": {},
   "outputs": [
    {
     "name": "stdout",
     "output_type": "stream",
     "text": [
      "2\n",
      "La cantidad de manzanas es: 2\n"
     ]
    }
   ],
   "source": [
    "#4. ¿Qué cantidad de 'manzana' tenemos?. Si la clave 'manzana' no está presente, devuelve un mensaje diciendo \"No existe esa clave\".\n",
    "\n",
    "cantidad_manzanas = frutas.get('manzana',  'No existe esa clave')\n",
    "print(cantidad_manzanas)\n",
    "\n",
    " #o puede ser\n",
    "\n",
    "if 'manzana' in frutas:\n",
    "    cantidad_manzana = frutas['manzana']\n",
    "    print(f'La cantidad de manzanas es: {cantidad_manzana}')\n",
    "else:\n",
    "    print('No existe esa clave')\n"
   ]
  },
  {
   "cell_type": "code",
   "execution_count": 67,
   "metadata": {},
   "outputs": [
    {
     "name": "stdout",
     "output_type": "stream",
     "text": [
      "{'manzana': 2, 'banana': 3, 'uva': 5, 'pera': 4, 'kiwi': 6}\n"
     ]
    }
   ],
   "source": [
    "#5. Agrega un nuevo par de clave-valor al diccionario frutas: 'kiwi' con una cantidad de 6.\n",
    "\n",
    "frutas.update({\"kiwi\": 6})\n",
    "\n",
    "print(frutas)"
   ]
  },
  {
   "cell_type": "code",
   "execution_count": 68,
   "metadata": {},
   "outputs": [
    {
     "name": "stdout",
     "output_type": "stream",
     "text": [
      "{'manzana': 2, 'banana': 3, 'uva': 8, 'pera': 4, 'kiwi': 6}\n"
     ]
    }
   ],
   "source": [
    "#6. Cambia la cantidad de 'uva' a 8.\n",
    "\n",
    "frutas['uva'] = 8\n",
    "\n",
    "print(frutas)"
   ]
  },
  {
   "cell_type": "code",
   "execution_count": 70,
   "metadata": {},
   "outputs": [
    {
     "name": "stdout",
     "output_type": "stream",
     "text": [
      "{'sandia': 7, 'mango': 4}\n"
     ]
    }
   ],
   "source": [
    "#7. Crea un segundo diccionario llamado frutas_nuevas con las siguientes parejas clave-valor:\n",
    "#'sandía': 7\n",
    "#'mango': 4\n",
    "\n",
    "frutas_nuevas = {\"sandia\":7, \"mango\":4}\n",
    "\n",
    "print(frutas_nuevas)"
   ]
  },
  {
   "cell_type": "code",
   "execution_count": 78,
   "metadata": {},
   "outputs": [
    {
     "name": "stdout",
     "output_type": "stream",
     "text": [
      "{'manzana': 2, 'banana': 3, 'uva': 8, 'pera': 4, 'kiwi': 6, 'sandia': 7, 'mango': 4}\n"
     ]
    }
   ],
   "source": [
    "#8. Combinar los dos diccionarios frutas_nuevas y frutas en uno nuevos llamado frutas_total\n",
    "\n",
    "frutas.update(frutas_nuevas)\n",
    "\n",
    "frutas_total = frutas\n",
    "\n",
    "print(frutas_total)\n",
    "\n"
   ]
  },
  {
   "cell_type": "code",
   "execution_count": 79,
   "metadata": {},
   "outputs": [
    {
     "name": "stdout",
     "output_type": "stream",
     "text": [
      "{'manzana': 2, 'banana': 3, 'uva': 8, 'pera': 4, 'kiwi': 6, 'sandia': 7}\n"
     ]
    }
   ],
   "source": [
    "#9. Elimina el último par de clave-valor del diccionario fruta_total\n",
    "\n",
    "frutas_total.popitem()\n",
    "\n",
    "print(frutas_total)"
   ]
  },
  {
   "cell_type": "code",
   "execution_count": 80,
   "metadata": {},
   "outputs": [
    {
     "name": "stdout",
     "output_type": "stream",
     "text": [
      "{'manzana': 2, 'banana': 3, 'pera': 4, 'kiwi': 6, 'sandia': 7}\n"
     ]
    }
   ],
   "source": [
    "#10. Elimina el par de clave-valor correspondiente a la clave 'uva' del diccionario.\n",
    "\n",
    "frutas_total.pop(\"uva\")\n",
    "\n",
    "print(frutas_total)"
   ]
  },
  {
   "cell_type": "code",
   "execution_count": 82,
   "metadata": {},
   "outputs": [
    {
     "name": "stdout",
     "output_type": "stream",
     "text": [
      "{'manzana': 2, 'banana': 3, 'pera': 4, 'kiwi': 6, 'sandia': 7}\n"
     ]
    }
   ],
   "source": [
    "#11. Agregar la fruta 'manzana' con una cantidad de 10 al diccionario. Si ya existe, no se realizarán cambios en los valores que teníamos\n",
    "\n",
    "frutas_total.setdefault('manzana', 10)\n",
    "\n",
    "print(frutas_total)\n"
   ]
  },
  {
   "cell_type": "code",
   "execution_count": 84,
   "metadata": {},
   "outputs": [
    {
     "name": "stdout",
     "output_type": "stream",
     "text": [
      "Lista de cantidades: [2, 3, 4, 6, 7]\n",
      "Suma total de las cantidades: 22\n"
     ]
    }
   ],
   "source": [
    "#12. Combinar métodos de listas y diccionarios:\n",
    "#a)Obtén una lista de todas las cantidades en el diccionario y calcula suma total de las cantidades del diccionario frutas_total.\n",
    "#b)Utilizando la lista creada en el apartado anterior encuentra la cantidad más grande y más pequeña.\n",
    "\n",
    "#a)\n",
    "suma_frutas = list(frutas_total.values())\n",
    "print(\"Lista de cantidades:\", suma_frutas)\n",
    "\n",
    "suma_total = sum(suma_frutas)\n",
    "print(\"Suma total de las cantidades:\", suma_total)\n",
    "\n"
   ]
  },
  {
   "cell_type": "markdown",
   "metadata": {},
   "source": [
    "Parte 5: Métodos de Sets"
   ]
  },
  {
   "cell_type": "code",
   "execution_count": 85,
   "metadata": {},
   "outputs": [],
   "source": [
    "#1.Crea un set llamado conjunto1 con los números del 1 al 5.\n",
    "\n",
    "conjunto1 = {1,2,3,4,5}"
   ]
  },
  {
   "cell_type": "code",
   "execution_count": 86,
   "metadata": {},
   "outputs": [],
   "source": [
    "#2.Crea otro set llamado conjunto2 con los números del 4 al 8.\n",
    "\n",
    "conjunto2 = {4,5,6,7,8}"
   ]
  },
  {
   "cell_type": "code",
   "execution_count": 87,
   "metadata": {},
   "outputs": [
    {
     "name": "stdout",
     "output_type": "stream",
     "text": [
      "{1, 2, 3, 4, 5, 6, 7, 8}\n"
     ]
    }
   ],
   "source": [
    "#3.Obtén la unión de conjunto1 y conjunto2.\n",
    "\n",
    "conjunto_union = conjunto1.union(conjunto2)\n",
    "\n",
    "print(conjunto_union)"
   ]
  },
  {
   "cell_type": "code",
   "execution_count": 88,
   "metadata": {},
   "outputs": [
    {
     "name": "stdout",
     "output_type": "stream",
     "text": [
      "{4, 5}\n"
     ]
    }
   ],
   "source": [
    "#4.Obtén la intersección de conjunto1 y conjunto2.\n",
    "\n",
    "interseccion_conjunto = conjunto1.intersection(conjunto2)\n",
    "\n",
    "print(interseccion_conjunto)"
   ]
  },
  {
   "cell_type": "code",
   "execution_count": 90,
   "metadata": {},
   "outputs": [
    {
     "name": "stdout",
     "output_type": "stream",
     "text": [
      "{1, 2, 3}\n"
     ]
    }
   ],
   "source": [
    "#5.Obtén los elementos que están en conjunto1 pero no en el conjunto2.\n",
    "\n",
    "diferencia_union = conjunto1.difference(conjunto2)\n",
    "\n",
    "print(diferencia_union)"
   ]
  },
  {
   "cell_type": "markdown",
   "metadata": {},
   "source": [
    "Parte 6 : Sentencia de control"
   ]
  },
  {
   "cell_type": "code",
   "execution_count": 106,
   "metadata": {},
   "outputs": [
    {
     "name": "stdout",
     "output_type": "stream",
     "text": [
      "Eres menor de edad\n"
     ]
    }
   ],
   "source": [
    "#1.Ejercicio 1: Evaluación de Edades:\n",
    "#Escribe un programa que solicite al usuario ingresar su edad.\n",
    "#Si la edad es menor de 18, muestra \"Eres menor de edad\".\n",
    "#Si la edad está entre 18 y 65 (incluyendo ambos extremos), muestra \"Eres adulto\".\n",
    "#Si la edad es mayor o igual a 65, muestra \"Eres un adulto mayor\".\n",
    "\n",
    "edad = input(\"Escribe tu edad: \")\n",
    "\n",
    "if edad.isdigit():\n",
    "    edad = int(edad)\n",
    "\n",
    "    if edad < 18:\n",
    "        print(\"Eres menor de edad\")\n",
    "    elif 18 <= edad <= 65:\n",
    "        print(\"Eres adulto\")\n",
    "    else:\n",
    "        print(\"Eres un adulto mayor\")\n",
    "else:\n",
    "    print(\"Ingresa una edad válida (número entero).\")\n"
   ]
  },
  {
   "cell_type": "code",
   "execution_count": 103,
   "metadata": {},
   "outputs": [
    {
     "name": "stdout",
     "output_type": "stream",
     "text": [
      "Martes\n"
     ]
    }
   ],
   "source": [
    "#2.Ejercicio 2: Determinación de Día de la Semana\n",
    "#Solicita al usuario que ingrese un número del 1 al 7.\n",
    "#Utilizando una serie de if-elif-else, muestra el día de la semana correspondiente al número ingresado. Por ejemplo, si ingresa 1, muestra \"Lunes\".\n",
    "\n",
    "# Solicitar al usuario que ingrese un número del 1 al 7\n",
    "numero_semana = input(\"Escribe un número del 1 al 7: \")\n",
    "\n",
    "# Verificar si la entrada es un número entero\n",
    "if numero_semana.isdigit():\n",
    "    numero = int(numero_semana)\n",
    "\n",
    "    # Determinar el día de la semana correspondiente al número\n",
    "    if 1 <= numero <= 7:\n",
    "        dias_semana = ['Lunes', 'Martes', 'Miércoles', 'Jueves', 'Viernes', 'Sábado', 'Domingo']\n",
    "        print(dias_semana[numero - 1])\n",
    "    else:\n",
    "        print(\"Número fuera de rango. Escribe un número del 1 al 7.\")\n",
    "else:\n",
    "    print(\"Escribe un número válido (entero).\")\n",
    "\n"
   ]
  },
  {
   "cell_type": "code",
   "execution_count": null,
   "metadata": {},
   "outputs": [],
   "source": [
    "#3.Ejercicio 3: Juego de Adivinanza\n",
    "#Genera un número aleatorio entre 1 y 100.\n",
    "#Pídele al usuario que adivine el número.\n",
    "#Si el usuario adivina correctamente en el primer intento, muestra \"¡Ganaste en el primer intento!\".\n",
    "#Si el usuario no adivina en el primer intento, bríndale pistas (mayor o menor) y permite que intente nuevamente. Muestra cuántos intentos le llevó al final."
   ]
  },
  {
   "cell_type": "code",
   "execution_count": null,
   "metadata": {},
   "outputs": [],
   "source": [
    "#4.Ejercicio 4: Juego de Adivinar la Palabra\n",
    "#Elige una palabra secreta y ocúltala utilizando asteriscos, por ejemplo, \"secreto\" se muestra como \"*******\".\n",
    "#Permite al usuario adivinar letras una por una.\n",
    "#Si la letra adivinada está en la palabra secreta, muestra la palabra con las letras descubiertas y los asteriscos.\n",
    "#Si la letra no está en la palabra secreta, resta una vida al jugador.\n",
    "#El juego continúa hasta que el jugador adivine la palabra."
   ]
  }
 ],
 "metadata": {
  "kernelspec": {
   "display_name": "Python 3",
   "language": "python",
   "name": "python3"
  },
  "language_info": {
   "codemirror_mode": {
    "name": "ipython",
    "version": 3
   },
   "file_extension": ".py",
   "mimetype": "text/x-python",
   "name": "python",
   "nbconvert_exporter": "python",
   "pygments_lexer": "ipython3",
   "version": "3.9.6"
  }
 },
 "nbformat": 4,
 "nbformat_minor": 2
}
